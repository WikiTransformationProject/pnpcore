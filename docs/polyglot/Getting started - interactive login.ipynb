{
 "cells": [
  {
   "cell_type": "markdown",
   "metadata": {},
   "source": [
    "# Getting Started with PnP Core SDK - Interactive login\n",
    "\n",
    "This solution demonstrates how the PnP Core SDK can be used in a Polyglot notebook. In this sample we're showing you how you can use PnP Core SDK using the minimal amount of configuration and code.\n",
    "\n",
    "This notebook is a demonstration based from the minimal console sample to running fragments of code in a Polyglot notebook, that contains WORKING code and returns results base don a secure connection to your tenant\n",
    "\n",
    "Reference Sample: https://pnp.github.io/pnpcore/demos/Demo.Console.Minimal/readme.html\n",
    "\n",
    "## Prerequisites\n",
    "\n",
    "### Getting started\n",
    "\n",
    "Before this Polyglot notebook can run you need to:\n",
    "- Install the latest [Visual Studio Code](https://code.visualstudio.com/).\n",
    "- Install the latest [.NET 6 SDK](https://dotnet.microsoft.com/download/dotnet/6.0).\n",
    "- Install the Polyglot Notebooks extension from the [marketplace](https://marketplace.visualstudio.com/items?itemName=ms-dotnettools.dotnet-interactive-vscode).\n",
    "\n",
    "### Setup an Azure AD app for accessing SharePoint\n",
    "\n",
    "The one thing to configure before you can use this sample is an Azure AD application:\n",
    "\n",
    "1. Navigate to https://aad.portal.azure.com\n",
    "2. Click on **Azure Active Directory**, followed by navigating to **App registrations**\n",
    "3. Add a new application via the **New registration** link\n",
    "4. Give your application a name, e.g. PnPCoreSDKConsoleDemo and add **http://localhost** as redirect URI. Clicking on **Register** will create the application and open it\n",
    "5. Take note of the **Application (client) ID** value, you'll need it in the next step\n",
    "6. Click on **API permissions** and add these **delegated** permissions\n",
    "   1. Microsoft Graph -> Sites.Manage.All\n",
    "   2. SharePoint -> AllSites.Manage\n",
    "7. Consent the application permissions by clicking on **Grant admin consent**\n",
    "\n",
    "\n",
    "### Setting up a connection in the notebook and reference the libraries\n",
    "\n",
    "Firstly, for the notebook to run, you need to get libraries from nuget and setup the using statements with the following call:"
   ]
  },
  {
   "cell_type": "code",
   "execution_count": 1,
   "metadata": {
    "dotnet_interactive": {
     "language": "csharp"
    },
    "vscode": {
     "languageId": "dotnet-interactive.csharp"
    }
   },
   "outputs": [
    {
     "data": {
      "text/html": [
       "<div><div></div><div></div><div><strong>Installed Packages</strong><ul><li><span>Microsoft.Extensions.Hosting, 6.0.0</span></li><li><span>PnP.Core.Auth, 1.8.10-nightly</span></li></ul></div></div>"
      ]
     },
     "metadata": {},
     "output_type": "display_data"
    }
   ],
   "source": [
    "// Only install PnP.Core.Auth, this will pull in PnP.Core\n",
    "#r \"nuget: PnP.Core.Auth,*-*\"\n",
    "#r \"nuget: Microsoft.Extensions.Hosting, 6.0.0\"\n",
    "\n",
    "using Microsoft.Extensions.DependencyInjection;\n",
    "using Microsoft.Extensions.Hosting;\n",
    "using PnP.Core.Auth;\n",
    "using PnP.Core.Services;"
   ]
  },
  {
   "cell_type": "markdown",
   "metadata": {},
   "source": [
    "### Set the connection variables\n",
    "\n",
    "Replace each of these following variables with values from your Azure AD application and you're own SharePoint site. "
   ]
  },
  {
   "cell_type": "code",
   "execution_count": 2,
   "metadata": {
    "dotnet_interactive": {
     "language": "csharp"
    },
    "vscode": {
     "languageId": "dotnet-interactive.csharp"
    }
   },
   "outputs": [],
   "source": [
    "// Replace the client ID with the Application ID from the Azure AD app registration\n",
    "string clientId = \"c545f9ce-1c11-440b-812b-0b35217d9e83\";\n",
    "\n",
    "// Set the URL to the SharePoint site you want to connect to\n",
    "string siteUrl = \"https://bertonline.sharepoint.com/sites/prov-1\";"
   ]
  },
  {
   "cell_type": "markdown",
   "metadata": {},
   "source": [
    "Configure the host using the default authentication provider, there are other providers, to see more about the alternatives, check out the [PnP Core SDK documentation](https://pnp.github.io/pnpcore/using-the-sdk/configuring%20authentication.html). "
   ]
  },
  {
   "cell_type": "code",
   "execution_count": 3,
   "metadata": {
    "dotnet_interactive": {
     "language": "csharp"
    },
    "vscode": {
     "languageId": "dotnet-interactive.csharp"
    }
   },
   "outputs": [
    {
     "name": "stdout",
     "output_type": "stream",
     "text": [
      "info: Microsoft.Hosting.Lifetime[0]\r\n",
      "      Application started. Press Ctrl+C to shut down.\r\n",
      "info: Microsoft.Hosting.Lifetime[0]\r\n",
      "      Hosting environment: Production\r\n",
      "info: Microsoft.Hosting.Lifetime[0]\r\n",
      "      Content root path: c:\\Users\\bjansen\\Downloads\r\n"
     ]
    }
   ],
   "source": [
    "// Creates and configures the host\n",
    "var host = Host.CreateDefaultBuilder()\n",
    "    .ConfigureServices((context, services) => \n",
    "    {\n",
    "        // Add PnP Core SDK\n",
    "        services.AddPnPCore(options =>\n",
    "        {\n",
    "            // Configure the interactive authentication provider as default\n",
    "            options.DefaultAuthenticationProvider = new InteractiveAuthenticationProvider()\n",
    "            {\n",
    "                ClientId = clientId,\n",
    "                RedirectUri = new Uri(\"http://localhost\")\n",
    "            };\n",
    "        });\n",
    "    })\n",
    "    .UseConsoleLifetime()\n",
    "    .Build();\n",
    "\n",
    "// Start the host\n",
    "await host.StartAsync();"
   ]
  },
  {
   "cell_type": "markdown",
   "metadata": {},
   "source": [
    "# The application\n",
    "\n",
    "Now that we have setup the prerequisites, we can start using the PnP Core SDK in the notebook."
   ]
  },
  {
   "cell_type": "code",
   "execution_count": 4,
   "metadata": {
    "dotnet_interactive": {
     "language": "csharp"
    },
    "vscode": {
     "languageId": "dotnet-interactive.csharp"
    }
   },
   "outputs": [
    {
     "name": "stdout",
     "output_type": "stream",
     "text": [
      "The title of the web is prov-1\r\n"
     ]
    }
   ],
   "source": [
    "using (var scope = host.Services.CreateScope())\n",
    "{\n",
    "    // Ask an IPnPContextFactory from the host\n",
    "    var pnpContextFactory = scope.ServiceProvider.GetRequiredService<IPnPContextFactory>();\n",
    "\n",
    "    // Create a PnPContext\n",
    "    using (var context = await pnpContextFactory.CreateAsync(new Uri(siteUrl)))\n",
    "    {\n",
    "        // Load the Title property of the site's root web\n",
    "        await context.Web.LoadAsync(p => p.Title);\n",
    "        Console.WriteLine($\"The title of the web is {context.Web.Title}\");\n",
    "    }\n",
    "}"
   ]
  }
 ],
 "metadata": {
  "kernelspec": {
   "display_name": ".NET (C#)",
   "language": "C#",
   "name": ".net-csharp"
  },
  "language_info": {
   "name": "C#"
  }
 },
 "nbformat": 4,
 "nbformat_minor": 2
}

{
 "cells": [
  {
   "cell_type": "markdown",
   "metadata": {},
   "source": [
    "# Getting Started with PnP Core SDK - Application permissions\n",
    "\n",
    "This solution demonstrates how the PnP Core SDK can be used in a Polyglot notebook while using application permissions using a certificate for authentication. In this sample we're showing you how you can use PnP Core SDK using the minimal amount of configuration and code.\n",
    "\n",
    "This notebook is a demonstration based from the minimal console sample to running fragments of code in a Polyglot notebook, that contains WORKING code and returns results base don a secure connection to your tenant\n",
    "\n",
    "## Prerequisites\n",
    "\n",
    "### Getting started\n",
    "\n",
    "Before this Polyglot notebook can run you need to:\n",
    "- Install the latest [Visual Studio Code](https://code.visualstudio.com/).\n",
    "- Install the latest [.NET 6 SDK](https://dotnet.microsoft.com/download/dotnet/6.0).\n",
    "- Install the Polyglot Notebooks extension from the [marketplace](https://marketplace.visualstudio.com/items?itemName=ms-dotnettools.dotnet-interactive-vscode).\n",
    "\n",
    "### Setup an Azure AD app for accessing SharePoint\n",
    "\n",
    "The one thing to configure before you can use this sample is an Azure AD application:\n",
    "\n",
    "1. Navigate to [Azure AD Portal](https://aad.portal.azure.com/) and click on **Azure Active Directory** from the left navigation\n",
    "2. Click on **Add** in the toolbar and choose **App registration**, this will open up the **Register an application** page\n",
    "3. Provide a **Name** for your Azure AD application (e.g. Microsoft365AssessmentToolForWorkflow)\n",
    "4. Select **Public client/native (mobile & desktop)** and enter **http://localhost** as redirect URI\n",
    "5. Click on **Register** and the Azure AD application gets created and opened\n",
    "6. Click on **API permissions** and add these **application** permissions\n",
    "   1. Microsoft Graph -> Sites.Read.All\n",
    "   2. SharePoint -> Sites.Read.All\n",
    "7. Click on **Grant admin consent for...** to consent the added permissions\n",
    "8. Go to **Certificates & secrets**, click on **Certificates** and **Upload certificate**, pick the .cer file of your certificate and add it.\n",
    "\n",
    "Note: If you don't have a certificate available then you can [use Windows PowerShell to create one](https://docs.microsoft.com/en-us/azure/active-directory/develop/howto-create-self-signed-certificate).\n",
    "\n",
    "### Setting up a connection in the notebook and reference the libraries\n",
    "\n",
    "Firstly, for the notebook to run, you need to get libraries from nuget and setup the using statements with the following call:"
   ]
  },
  {
   "cell_type": "code",
   "execution_count": 19,
   "metadata": {
    "dotnet_interactive": {
     "language": "csharp"
    },
    "vscode": {
     "languageId": "dotnet-interactive.csharp"
    }
   },
   "outputs": [
    {
     "data": {
      "text/html": [
       "<div><div></div><div></div><div><strong>Installed Packages</strong><ul><li><span>Microsoft.Extensions.Hosting, 6.0.0</span></li><li><span>PnP.Core.Auth, 1.8.11-nightly</span></li></ul></div></div>"
      ]
     },
     "metadata": {},
     "output_type": "display_data"
    }
   ],
   "source": [
    "// Only install PnP.Core.Auth, this will pull in PnP.Core\n",
    "#r \"nuget: PnP.Core.Auth,*-*\"\n",
    "#r \"nuget: Microsoft.Extensions.Hosting, 6.0.0\"\n",
    "\n",
    "using Microsoft.Extensions.DependencyInjection;\n",
    "using Microsoft.Extensions.Hosting;\n",
    "using PnP.Core.Auth.Services.Builder.Configuration;\n",
    "using PnP.Core.Services;\n",
    "using PnP.Core.Services.Builder.Configuration;\n",
    "using System.Security.Cryptography.X509Certificates;"
   ]
  },
  {
   "cell_type": "markdown",
   "metadata": {},
   "source": [
    "### Set the connection variables\n",
    "\n",
    "Replace each of these following variables with values from your Azure AD application and you're own SharePoint site. "
   ]
  },
  {
   "cell_type": "code",
   "execution_count": 20,
   "metadata": {
    "dotnet_interactive": {
     "language": "csharp"
    },
    "vscode": {
     "languageId": "dotnet-interactive.csharp"
    }
   },
   "outputs": [],
   "source": [
    "// Replace the client ID with the Application ID from the Azure AD app registration\n",
    "string clientId = \"c545f9ce-1c11-440b-812b-0b35217d9e83\";\n",
    "\n",
    "// Specify your Azure AD tenant id\n",
    "string tenantId = \"d8623c9e-30c7-473a-83bc-d907df44a26e\";\n",
    "\n",
    "// Specify the thumbprint of the certificate to use, the certificate must be present in the LocalUser/My location\n",
    "string certificatePath = \"b133d1cb4d19ce539986c7ac67de005481084c84\";\n",
    "\n",
    "// Set the URL to the SharePoint site you want to connect to\n",
    "string siteUrl = \"https://bertonline.sharepoint.com/sites/prov-1\";"
   ]
  },
  {
   "cell_type": "markdown",
   "metadata": {},
   "source": [
    "Configure the host using the `PnPCoreAuthenticationX509CertificateOptions` authentication provider. "
   ]
  },
  {
   "cell_type": "code",
   "execution_count": 21,
   "metadata": {
    "dotnet_interactive": {
     "language": "csharp"
    },
    "vscode": {
     "languageId": "dotnet-interactive.csharp"
    }
   },
   "outputs": [
    {
     "name": "stdout",
     "output_type": "stream",
     "text": [
      "info: Microsoft.Hosting.Lifetime[0]\r\n",
      "      Application started. Press Ctrl+C to shut down.\r\n",
      "info: Microsoft.Hosting.Lifetime[0]\r\n",
      "      Hosting environment: Production\r\n",
      "info: Microsoft.Hosting.Lifetime[0]\r\n",
      "      Content root path: d:\\github\\pnpcore\\docs\\polyglot\r\n"
     ]
    }
   ],
   "source": [
    "// Creates and configures the host\n",
    "var host = Host.CreateDefaultBuilder()\n",
    "    .ConfigureServices((context, services) => \n",
    "    {\n",
    "        // Add PnP Core SDK\n",
    "        services.AddPnPCore(options =>\n",
    "        {\n",
    "            // Add the base site url\n",
    "            options.Sites.Add(\"Default\", new PnPCoreSiteOptions\n",
    "            {\n",
    "                SiteUrl = siteUrl\n",
    "            });\n",
    "        });\n",
    "\n",
    "        // Manual configure the used authentication\n",
    "        services.AddPnPCoreAuthentication(options =>\n",
    "        {\n",
    "            // Load the certificate that will be used to authenticate\n",
    "            //var cert = LoadCertificate(certificatePath);\n",
    "\n",
    "            // Configure certificate based auth\n",
    "            options.Credentials.Configurations.Add(\"CertAuth\", new PnPCoreAuthenticationCredentialConfigurationOptions\n",
    "            {\n",
    "                ClientId = clientId,\n",
    "                TenantId = tenantId,\n",
    "                X509Certificate = new PnPCoreAuthenticationX509CertificateOptions\n",
    "                {\n",
    "                    Certificate = LoadCertificate(certificatePath),\n",
    "                }\n",
    "            });\n",
    "\n",
    "            // Configure the default authentication provider\n",
    "            options.Credentials.DefaultConfiguration = \"CertAuth\";\n",
    "            \n",
    "            // Connect the configured authentication method to the configured site\n",
    "            options.Sites.Add(\"Default\", new PnPCoreAuthenticationSiteOptions\n",
    "            {\n",
    "                AuthenticationProviderName = \"CertAuth\",\n",
    "            });\n",
    "\n",
    "            options.Credentials.DefaultConfiguration = \"CertAuth\";\n",
    "        });\n",
    "\n",
    "    })\n",
    "    .UseConsoleLifetime()\n",
    "    .Build();\n",
    "\n",
    "// Start the host\n",
    "await host.StartAsync();\n",
    "\n",
    "private static X509Certificate2 LoadCertificate(string certificateThumbprint)\n",
    "{\n",
    "    var store = new X509Store(StoreName.My, StoreLocation.CurrentUser);\n",
    "    store.Open(OpenFlags.ReadOnly | OpenFlags.OpenExistingOnly);\n",
    "    var certificateCollection = store.Certificates.Find(X509FindType.FindByThumbprint, certificateThumbprint, false);\n",
    "    store.Close();\n",
    "\n",
    "    return certificateCollection.First();\n",
    "}"
   ]
  },
  {
   "cell_type": "markdown",
   "metadata": {},
   "source": [
    "# The application\n",
    "\n",
    "Now that we have setup the prerequisites, we can start using the PnP Core SDK in the notebook."
   ]
  },
  {
   "cell_type": "code",
   "execution_count": null,
   "metadata": {
    "dotnet_interactive": {
     "language": "csharp"
    },
    "vscode": {
     "languageId": "dotnet-interactive.csharp"
    }
   },
   "outputs": [],
   "source": [
    "using (var scope = host.Services.CreateScope())\n",
    "{\n",
    "    // Ask an IPnPContextFactory from the host\n",
    "    var pnpContextFactory = scope.ServiceProvider.GetRequiredService<IPnPContextFactory>();\n",
    "\n",
    "    // Create a PnPContext\n",
    "    using (var context = await pnpContextFactory.CreateAsync(new Uri(siteUrl)))\n",
    "    {\n",
    "        // Load the Title property of the site's root web\n",
    "        await context.Web.LoadAsync(p => p.Title);\n",
    "        Console.WriteLine($\"The title of the web is {context.Web.Title}\");\n",
    "    }\n",
    "}"
   ]
  }
 ],
 "metadata": {
  "kernelspec": {
   "display_name": ".NET (C#)",
   "language": "C#",
   "name": ".net-csharp"
  },
  "language_info": {
   "name": "C#"
  }
 },
 "nbformat": 4,
 "nbformat_minor": 2
}
